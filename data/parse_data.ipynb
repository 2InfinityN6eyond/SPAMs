{
 "cells": [
  {
   "cell_type": "code",
   "execution_count": 13,
   "metadata": {},
   "outputs": [],
   "source": [
    "import os\n",
    "import dataclasses\n",
    "import datetime\n",
    "\n",
    "from pprint import PrettyPrinter\n",
    "\n",
    "pprint = PrettyPrinter(indent=4).pprint\n",
    "\n",
    "@dataclasses.dataclass\n",
    "class TextMessage :\n",
    "    title : str      = None\n",
    "    label : str      = None\n",
    "    content : str    = None\n",
    "    time1 : datetime = None\n",
    "    time2 : datetime = None\n",
    "\n",
    "    def __init__(self, input_txt_lines) :\n",
    "        self.parseRawInput(input_txt_lines)\n",
    "\n",
    "    def parseRawInput(self, input_txt_lines) :\n",
    "        time_str1, time_str2, self.label, self.content = input_txt_lines[0].split(\"[(KISA)]\")\n",
    "        self.time1 = datetime.datetime.strptime(time_str1.removeprefix(\"[(KISA:SOL)]\"), \"%Y%m%d%H%M\")\n",
    "        self.time2 = datetime.datetime.strptime(time_str2, \"%Y%m%d%H%M\")\n",
    "        for line in input_txt_lines[1:-1] :\n",
    "            self.content += line\n",
    "        self.title = input_txt_lines[-1].removesuffix(\"[(KISA:EOL)]\\n\")\n",
    "\n",
    "\n",
    "def parseDataFile(file_path) :\n",
    "    with open(file_path, \"r\") as fp :\n",
    "        data_raw = fp.readlines()[1:]\n",
    "\n",
    "    SOL_IDX_LIST = list(filter(\n",
    "        lambda x : False if x is False else True,\n",
    "        list(map(\n",
    "            lambda line_idx, string : line_idx if \"[(KISA:SOL)]\" in string else False,\n",
    "            range(len(data_raw)),\n",
    "            data_raw\n",
    "        ))\n",
    "    ))\n",
    "    EOL_IDX_LIST = list(filter(\n",
    "        lambda x : False if x is False else True,\n",
    "        list(map(\n",
    "            lambda line_idx, string : line_idx if \"[(KISA:EOL)]\" in string else False,\n",
    "            range(len(data_raw)),\n",
    "            data_raw\n",
    "        ))\n",
    "    ))\n",
    "    assert len(SOL_IDX_LIST) == len(EOL_IDX_LIST), \"\"\"\n",
    "        number of SOL lines and EOL lines are different.\n",
    "        check if data is valid\n",
    "    \"\"\"\n",
    "    text_message_list = []\n",
    "    for text_data_start_line_idx, text_data_end_line_idx in zip(SOL_IDX_LIST, EOL_IDX_LIST) :\n",
    "        text_message_list.append(\n",
    "            TextMessage(input_txt_lines = data_raw[\n",
    "                text_data_start_line_idx:text_data_end_line_idx + 1\n",
    "            ])\n",
    "        )\n",
    "    return text_message_list"
   ]
  },
  {
   "cell_type": "code",
   "execution_count": 14,
   "metadata": {},
   "outputs": [
    {
     "name": "stdout",
     "output_type": "stream",
     "text": [
      "20220911_GBL.csv\n"
     ]
    }
   ],
   "source": [
    "# --------------------\n",
    "DATA_FILE_IDX = 0\n",
    "# FILE_PATH = \"./20220911_GBL.csv\"\n",
    "\n",
    "# --------------------\n",
    "\n",
    "DATA_FILE_NAMES = sorted(list(filter(\n",
    "    lambda name : \"csv\" in name and \"._\" not in name,\n",
    "    os.listdir(\"./\")\n",
    ")))\n",
    "\n",
    "file_path = DATA_FILE_NAMES[DATA_FILE_IDX]\n",
    "\n",
    "print(file_path)\n",
    "\n",
    "text_message_list = parseDataFile(file_path)"
   ]
  },
  {
   "cell_type": "code",
   "execution_count": 15,
   "metadata": {},
   "outputs": [
    {
     "name": "stdout",
     "output_type": "stream",
     "text": [
      "[   TextMessage(title='SMS/-', label='도박', content='비행기  신규첫 3+2 10+5 20+7 30+10 50+15 100+30  *bit.ly/3AZST3y 쿄드쟈동\\n', time1=datetime.datetime(2022, 8, 31, 2, 44), time2=datetime.datetime(2022, 8, 31, 0, 4)),\n",
      "    TextMessage(title='SMS/-', label='도박', content='[국제발신]비행기  신규첫 3+2 10+5 20+7 30+10 50+15 100+30  *bit.ly/3AZST3y 쿄드쟈동\\n', time1=datetime.datetime(2022, 8, 31, 6, 28), time2=datetime.datetime(2022, 8, 31, 0, 9)),\n",
      "    TextMessage(title='MMS/null', label='성인', content='[Web발신](광고)(주)서울파이낸셜아직도 망설이시나요?아직도 제자리이신가요?악재로 인한 흔들리는 시장 !  서울중앙점은 확실한 분석을 통하여 이겨내고 성공을 안겨드립니다. 성공이 눈앞에 보여지는지관망만 해주셔도 좋습니다. 급하게 진행 안하셔도 좋습니다. ▼ 혜택받기 ▼bit.ly/SEOULMIDDLES금주 현황22일 : 2,270,000원23일 : 2,107,500원24일 : 2,110,000원25일 : 2,335,000원26일 : 2,047,500원27일 : 2,120,500원28일 : 진행 중▼ 혜택받기 ▼bit.ly/SEOULMIDDLES무료거부 0808701121\\n\\n', time1=datetime.datetime(2022, 8, 31, 8, 24), time2=datetime.datetime(2022, 8, 31, 8, 24)),\n",
      "    TextMessage(title='MMS/보이스캐디 캐디복지몰', label='불법대출', content=\"[Web발신]보이스캐디 APL™ 서비스 지원 골프장 250개 돌파 기념 이벤트!! ▶ 혜택 1. APL™ 지원 골프장 소속 캐디분들에게만 드리는 대박 혜택  - 프리미엄 골프워치 'T9'을 기존 할인가에 3만원 더! 추가 할인 적용! ▶ 혜택 2. 캐디복지몰 판매제품 마음껏 구매하기  - 보이스캐디의 골프워치, 레이저, 디지털 야디지북을 캐디복지몰에서만 누릴 수 있는 초특급 할인 가격에 마음껏 구매해 보세요! ▷ 이벤트 기간  - 8월 31일(수) ~ 9월 30일(금) 보이스캐디 캐디복지몰을 사랑해주시는 회원님께 깊은 감사드리며, 지금 바로 캐디복지몰에서 보이스캐디 제품과 함께 새로운 골프 라이프를 만나보세요! (혜택 2의 최대 구매 수량은 제품 별 3대 입니다.) (본 이벤트는 한정 수량 판매로 진행되며, 조기 마감될 수 있습니다.) ★캐디복지몰 바로가기★ http://caddie.voicecaddie.co.kr/ (광고) 무료거부 080-8290-7258\\n\\n\", time1=datetime.datetime(2022, 8, 31, 9, 9), time2=datetime.datetime(2022, 8, 31, 8, 57)),\n",
      "    TextMessage(title='SMS/-', label='도박', content='[국외발신]비행기  신규첫 3+2 10+5 20+7 30+10 50+15 100+30  *bit.ly/3AZST3y 쿄드쟈동\\n', time1=datetime.datetime(2022, 8, 31, 9, 13), time2=datetime.datetime(2022, 8, 31, 0, 2)),\n",
      "    TextMessage(title='MMS/대한복권센터', label='기타', content='MMS 스팸신고[Web발신](광고)안녕하세요 회원님 대한복권센터 박미정 팀장입니다^^다름이 아니라 저희 연구진회의때 데이터 좋은분 간추리며 말씀 하다가 회원님의  당첨데이터가 좋다고 재차 말씀을 해주셔서 기회를 놓치지 마시자고 도움 드리고 싶은 마음에 연락 한번 남겨봅니다!!구매를 못해보셨더라도 저희쪽에 당첨이력으로 남아있기 때문에 충분히 데이터로 살려서 관리받아보시면 유리하게 시작해보실수 있다고 말씀 드리는 거구요!다른업체와 똑같다고 생각은 버리셔도 되요 !!저희업체는 다르다는걸 증명 시켜드리고 싶습니다4등5등 할려고 로또하는건 아니지만 재밌게하셨기에지루하게 해드렸다면오랫동안 운영 되지 않았을 거구요!기회를 주셔야 결과로 보여드릴수 있기 때문에 믿고 저 박미정 팀장한테 기회한번 주세요 회원님^^혼자서 고민 하게 되신다면 부정적인 생각만 들지 않을까요?주야간으로 필터링 한번이라도 돌아간 분석번호 문자로 편하게 받아보시면서 이번주 추첨일 부터 기대반,설렘반으로 기다려 보시자구요^^문자 확인하셨으면 회신 꼭 부탁드려요무료수신거부0808559551\\n', time1=datetime.datetime(2022, 8, 31, 9, 51), time2=datetime.datetime(2022, 8, 31, 9, 33)),\n",
      "    TextMessage(title='MMS/내일 분석번호 나갑니다!!!!!!!!', label='기타', content='[Web발신]중요합니다 회원님!!\\n글이 길어도 꼭 다 읽으시고\\n\"답장한통\" 꼭 부탁드릴게요!!\\n회원님 \"무료번호에서 3등\"에\\n당첨이 되셨기에 그대로만\\n분석하면 \"조만간에 3등\"\\n\"1년동안 3등3번\" 가능합니다!\\n무조건 \"100%당첨\"됩니다!\\n당연히 어느정도 \"분석비용\"\\n발생 합니다 하지만!!\\n\"분석비용\" 정말 \"저렴\"합니다!!\\n가장 중요한건 저렴한 \"분석비용\"\\n당첨안되면 자신있게 \"환불보장\"\\n걸고 말씀드립니다!\\n\"환불\"입니다 \"환불\" !!\\n당첨이 안되면 \"환불\"입니다!!\\n\"분석비용\" 정말 \"저렴\"하고\\n저렴한 분석비용 당첨안되면\\n\"환불보장\"!! 안하실 이유가\\n전혀 없습니다!!\\n분석이라는게 \"당첨된 번호\"로\\n분석하는건데 \"3등이 번호를 5개\"\\n맞추는게 3등입니다!\\n회원님은 \"당첨번호 5자리\"가\\n그대로 들어가있기에 그대로만\\n분석하면 \"1년안에 3등3번\"\\n\"무조건 100%\"입니다!!\\n제가 이렇게 \"장문의 편지\"를\\n보내드리는 이유를 딱 한번만\\n생각 해주세요 회원님!\\n회원님이 당첨되셔야 제가\\n\"3%수수료\" 받습니다!!\\n회원님 100%당첨 된다는건\\n제가 100% 수수료를 받는다는거고\\n그럼 제가 100% 돈을번다는겁니다!\\n저 돈벌자고 이러는거 맞지만\\n저만 버는것도 아닙니다!!\\n제가 회원님 \"3등당첨\" 해드리고\\n\"웃음꽃\" 피워드리겠습니다!\\n믿고 맡겨주세요!! 답장주세요!!\\n.\\nhttps://vo.la/cCCttL\\n(클릭하면 홈페이지로 이동됩니다)\\n-------------------------\\n네이버에 [로또스마일] 검색 !!\\n.\\n아이디 [회원님 핸드폰번호]\\n.\\n비밀번호 [핸드폰번호 뒤 4자리]\\n.\\n분석시스템->분석번호보기 클릭!!\\n-------------------------\\n', time1=datetime.datetime(2022, 8, 31, 10, 3), time2=datetime.datetime(2022, 8, 31, 10, 2)),\n",
      "    TextMessage(title='SMS/-', label='확인불가', content='[Web발신]안녕하세요회원님내일분석번호발급날입니다.무조건관리비용 \"환불\"보장해드릴때진입해주세요.\\n', time1=datetime.datetime(2022, 8, 31, 10, 5), time2=datetime.datetime(2022, 8, 31, 10, 4)),\n",
      "    TextMessage(title='MMS/KISA 신고 메시지', label='기타', content='[MMS](광고)아닙니다 중요합니다 회원님!!글이 길어도 꼭 다 읽으시고\"답장한통\" 꼭 부탁드릴게요!!회원님 \"무료번호에서 3등\"에당첨이 되셨기에 그대로만분석하면 \"조만간에 3등\"\"1년동안 3등3번\" 가능합니다!무\\n\\n', time1=datetime.datetime(2022, 8, 31, 10, 5), time2=datetime.datetime(2022, 8, 31, 10, 4)),\n",
      "    TextMessage(title='MMS/내일 분석번호 나갑니다!!!!!!!', label='기타', content='MMS 스팸신고[Web발신]중요합니다 회원님!!글이 길어도 꼭 다 읽으시고\"답장한통\" 꼭 부탁드릴게요!!회원님 \"무료번호에서 3등\"에당첨이 되셨기에 그대로만분석하면 \"조만간에 3등\"\"1년동안 3등3번\" 가능합니다!무조건 \"100%당첨\"됩니다!당연히 어느정도 \"분석비용\"발생 합니다 하지만!!\"분석비용\" 정말 \"저렴\"합니다!!가장 중요한건 저렴한 \"분석비용\"당첨안되면 자신있게 \"환불보장\"걸고 말씀드립니다!\"환불\"입니다 \"환불\" !!당첨이 안되면 \"환불\"입니다!!\"분석비용\" 정말 \"저렴\"하고저렴한 분석비용 당첨안되면\"환불보장\"!! 안하실 이유가전혀 없습니다!!분석이라는게 \"당첨된 번호\"로분석하는건데 \"3등이 번호를 5개\"맞추는게 3등입니다!회원님은 \"당첨번호 5자리\"가그대로 들어가있기에 그대로만분석하면 \"1년안에 3등3번\"\"무조건 100%\"입니다!!제가 이렇게 \"장문의 편지\"를보내드리는 이유를 딱 한번만생각 해주세요 회원님!회원님이 당첨되셔야 제가\"3%수수료\" 받습니다!!회원님 100%당첨 된다는건제가 100% 수수료를 받는다는거고그럼 제가 100% 돈을번다는겁니다!저 돈벌자고 이러는거 맞지만저만 버는것도 아닙니다!!제가 회원님 \"3등당첨\" 해드리고\"웃음꽃\" 피워드리겠습니다!믿고 맡겨주세요!! 답장주세요!!.https://vo.la/cCCttL(클릭하면 홈페이지로 이동됩니다)-------------------------네이버에 [로또스마일] 검색 !!.아이디 [회원님 핸드폰번호].비밀번호 [핸드폰번호 뒤 4자리].분석시스템->분석번호보기 클릭!!-------------------------무료거부:0808708401\\n', time1=datetime.datetime(2022, 8, 31, 10, 11), time2=datetime.datetime(2022, 8, 31, 10, 8))]\n"
     ]
    }
   ],
   "source": [
    "ll = []\n",
    "for fn in DATA_FILE_NAMES :\n",
    "    ll += parseDataFile(fn)\n",
    "\n",
    "pprint(ll[:10])"
   ]
  },
  {
   "cell_type": "code",
   "execution_count": 27,
   "metadata": {},
   "outputs": [
    {
     "data": {
      "text/plain": [
       "{'비스팸': 527,\n",
       " '부동산': 78,\n",
       " '게임': 150,\n",
       " '성인': 1179,\n",
       " '운세': 8,\n",
       " '대리운전': 263,\n",
       " '통신가입': 292,\n",
       " '기타': 16969,\n",
       " '금융': 10,\n",
       " '유흥업소': 86,\n",
       " '주식': 84,\n",
       " '계좌임대': 1,\n",
       " '의약품': 302,\n",
       " '스미싱': 5,\n",
       " '불법대출': 1042,\n",
       " '도박': 18312,\n",
       " '확인불가': 23}"
      ]
     },
     "execution_count": 27,
     "metadata": {},
     "output_type": "execute_result"
    }
   ],
   "source": [
    "label_list = list(map(\n",
    "    lambda x : x.label,\n",
    "    ll\n",
    "))\n",
    "\n",
    "#label_dict = dict.fromkeys(list(set(label_list)), 0)\n",
    "label_dict = {key : label_list.count(key) for key in list(set(label_list))}\n",
    "label_dict"
   ]
  }
 ],
 "metadata": {
  "kernelspec": {
   "display_name": "first",
   "language": "python",
   "name": "python3"
  },
  "language_info": {
   "codemirror_mode": {
    "name": "ipython",
    "version": 3
   },
   "file_extension": ".py",
   "mimetype": "text/x-python",
   "name": "python",
   "nbconvert_exporter": "python",
   "pygments_lexer": "ipython3",
   "version": "3.9.13"
  },
  "orig_nbformat": 4
 },
 "nbformat": 4,
 "nbformat_minor": 2
}
